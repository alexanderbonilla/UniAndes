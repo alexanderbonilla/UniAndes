{
  "nbformat": 4,
  "nbformat_minor": 0,
  "metadata": {
    "colab": {
      "name": "Newton-Raphson.ipynb",
      "provenance": [],
      "mount_file_id": "1d1cEqfJErnNhXEmy4NarGG926DICXmGn",
      "authorship_tag": "ABX9TyOahQukuLx2na3+VGGYLMJv",
      "include_colab_link": true
    },
    "kernelspec": {
      "name": "python3",
      "display_name": "Python 3"
    }
  },
  "cells": [
    {
      "cell_type": "markdown",
      "metadata": {
        "id": "view-in-github",
        "colab_type": "text"
      },
      "source": [
        "<a href=\"https://colab.research.google.com/github/alexanderbonilla/UniAndes/blob/master/Newton_Raphson.ipynb\" target=\"_parent\"><img src=\"https://colab.research.google.com/assets/colab-badge.svg\" alt=\"Open In Colab\"/></a>"
      ]
    },
    {
      "cell_type": "code",
      "metadata": {
        "id": "hGEu6E0IZ5UB",
        "colab_type": "code",
        "colab": {}
      },
      "source": [
        "import numpy as np\n",
        "import pylab as plt\n",
        "from numpy import diff\n",
        "from scipy.misc import derivative"
      ],
      "execution_count": 117,
      "outputs": []
    },
    {
      "cell_type": "code",
      "metadata": {
        "id": "gtUvj6rdaCk8",
        "colab_type": "code",
        "colab": {}
      },
      "source": [
        "def newton(f,Df,x0,epsilon,max_iter):\n",
        "    '''Approximate solution of f(x)=0 by Newton's method.\n",
        "\n",
        "    Parameters\n",
        "    ----------\n",
        "    f : function\n",
        "        Function for which we are searching for a solution f(x)=0.\n",
        "    Df : function\n",
        "        Derivative of f(x).\n",
        "    x0 : number\n",
        "        Initial guess for a solution f(x)=0.\n",
        "    epsilon : number\n",
        "        Stopping criteria is abs(f(x)) < epsilon.\n",
        "    max_iter : integer\n",
        "        Maximum number of iterations of Newton's method.\n",
        "\n",
        "    Returns\n",
        "    -------\n",
        "    xn : number\n",
        "        Implement Newton's method: compute the linear approximation\n",
        "        of f(x) at xn and find x intercept by the formula\n",
        "            x = xn - f(xn)/Df(xn)\n",
        "        Continue until abs(f(xn)) < epsilon and return xn.\n",
        "        If Df(xn) == 0, return None. If the number of iterations\n",
        "        exceeds max_iter, then return None.\n",
        "\n",
        "    Examples\n",
        "    --------\n",
        "    >>> f = lambda x: (x + 2)*(x - 2)*(x - 4)\n",
        "    >>> Df = lambda x: (x - 2)*(x - 4) + (x + 2)*(x - 4) + (x + 2)*(x - 2)\n",
        "    >>> newton(f,Df,1,1e-8,10)\n",
        "    Found solution after 5 iterations.\n",
        "    2.0\n",
        "    '''\n",
        "    xn = x0\n",
        "    for n in range(0,max_iter):\n",
        "        fxn = f(xn)\n",
        "        if abs(fxn) < epsilon:\n",
        "            print('Found solution after',n,'iterations.')\n",
        "            return xn\n",
        "        Dfxn = Df(xn)\n",
        "        if Dfxn == 0:\n",
        "            print('Zero derivative. No solution found.')\n",
        "            return None\n",
        "        xn = xn - fxn/Dfxn\n",
        "    print('Exceeded maximum iterations. No solution found.')\n",
        "    return None"
      ],
      "execution_count": 89,
      "outputs": []
    },
    {
      "cell_type": "code",
      "metadata": {
        "id": "swMWNi4Oj0VH",
        "colab_type": "code",
        "colab": {
          "base_uri": "https://localhost:8080/",
          "height": 51
        },
        "outputId": "4f7e6eb7-df23-448f-b757-2d2342a45804"
      },
      "source": [
        "p = lambda x: (x + 2)*(x - 2)*(x - 4)\n",
        "Dp = lambda x: (x - 2)*(x - 4) + (x + 2)*(x - 4) + (x + 2)*(x - 2)\n",
        "approx = newton(p,Dp,1,1e-10,10)\n",
        "print(approx)\n"
      ],
      "execution_count": 114,
      "outputs": [
        {
          "output_type": "stream",
          "text": [
            "Found solution after 1 iterations.\n",
            "2.0\n"
          ],
          "name": "stdout"
        }
      ]
    },
    {
      "cell_type": "code",
      "metadata": {
        "id": "ZpgwtamQ0XXi",
        "colab_type": "code",
        "colab": {}
      },
      "source": [
        "\n",
        "from IPython.display import YouTubeVideo"
      ],
      "execution_count": 125,
      "outputs": []
    },
    {
      "cell_type": "code",
      "metadata": {
        "id": "DOiSPIrJnqx4",
        "colab_type": "code",
        "colab": {
          "base_uri": "https://localhost:8080/",
          "height": 321
        },
        "outputId": "d2203133-71ce-4b85-c430-7a39afd55508"
      },
      "source": [
        "YouTubeVideo('N4RT1N6JrtE')"
      ],
      "execution_count": 126,
      "outputs": [
        {
          "output_type": "execute_result",
          "data": {
            "text/html": [
              "\n",
              "        <iframe\n",
              "            width=\"400\"\n",
              "            height=\"300\"\n",
              "            src=\"https://www.youtube.com/embed/N4RT1N6JrtE\"\n",
              "            frameborder=\"0\"\n",
              "            allowfullscreen\n",
              "        ></iframe>\n",
              "        "
            ],
            "text/plain": [
              "<IPython.lib.display.YouTubeVideo at 0x7fec54645588>"
            ],
            "image/jpeg": "[encoded data removed]"
          },
          "metadata": {
            "tags": []
          },
          "execution_count": 126
        }
      ]
    }
  ]
}